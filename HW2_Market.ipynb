{
  "nbformat": 4,
  "nbformat_minor": 0,
  "metadata": {
    "colab": {
      "provenance": [],
      "include_colab_link": true
    },
    "kernelspec": {
      "name": "python3",
      "display_name": "Python 3"
    },
    "language_info": {
      "name": "python"
    }
  },
  "cells": [
    {
      "cell_type": "markdown",
      "metadata": {
        "id": "view-in-github",
        "colab_type": "text"
      },
      "source": [
        "<a href=\"https://colab.research.google.com/github/ztYasmine/Pricing_1/blob/main/HW2_Market.ipynb\" target=\"_parent\"><img src=\"https://colab.research.google.com/assets/colab-badge.svg\" alt=\"Open In Colab\"/></a>"
      ]
    },
    {
      "cell_type": "code",
      "metadata": {
        "id": "f4FBkpBLWLaY"
      },
      "source": [
        "from gensim.models.word2vec import Word2Vec"
      ],
      "execution_count": 1,
      "outputs": []
    },
    {
      "cell_type": "code",
      "metadata": {
        "id": "lQ7t7fxJWwzV"
      },
      "source": [
        "import re\n",
        "from sklearn import feature_extraction\n",
        "stop_words = feature_extraction.text.ENGLISH_STOP_WORDS\n",
        "from nltk.stem import PorterStemmer\n",
        "from nltk.stem import WordNetLemmatizer\n",
        "\n",
        "def preprocess(text):\n",
        "  text = text.lower() #lowercase\n",
        "  text = re.sub(r'[^\\w\\s]', '', text) #remove punctuations\n",
        "  text = re.sub(r'\\d+', '', text) #remove numbers\n",
        "  text = \" \".join(text.split()) #stripWhitespace\n",
        "  text = text.split()\n",
        "  text = [x for x in text if x not in stop_words] #remove stopwords\n",
        "  text = [x for x in text if x not in [\"dr\", \"doctor\"]] #remove task specific stopwords\n",
        "  text = \" \".join(text)\n",
        "  # stemmer_ps = PorterStemmer()\n",
        "  # text = [stemmer_ps.stem(word) for word in text.split()] #stemming\n",
        "  # text = \" \".join(text)\n",
        "  # lemmatizer = WordNetLemmatizer()\n",
        "  # text = [lemmatizer.lemmatize(word) for word in text.split()]  #lemmatization\n",
        "  # text = \" \".join(text)\n",
        "  return(text)"
      ],
      "execution_count": 2,
      "outputs": []
    },
    {
      "cell_type": "code",
      "metadata": {
        "id": "SFZ0jnIXW6gS"
      },
      "source": [
        "import pandas as pd\n",
        "data = pd.read_csv('bbc_data.csv')"
      ],
      "execution_count": 4,
      "outputs": []
    },
    {
      "cell_type": "code",
      "metadata": {
        "id": "5kmpBDzAXNCV"
      },
      "source": [
        "data['review_processed']=data['data'].apply(lambda x:preprocess(x))\n",
        "data['review_processed']=data['review_processed'].apply(lambda x:x.split())\n"
      ],
      "execution_count": 5,
      "outputs": []
    },
    {
      "cell_type": "code",
      "metadata": {
        "colab": {
          "base_uri": "https://localhost:8080/",
          "height": 424
        },
        "id": "sdJ7aqiYXpb5",
        "outputId": "8e405a85-71ae-4784-8ad7-88f11bf3377f"
      },
      "source": [
        "data"
      ],
      "execution_count": 6,
      "outputs": [
        {
          "output_type": "execute_result",
          "data": {
            "text/plain": [
              "                                                   data         labels  \\\n",
              "0     Musicians to tackle US red tape  Musicians gro...  entertainment   \n",
              "1     U2s desire to be number one  U2, who have won ...  entertainment   \n",
              "2     Rocker Doherty in on-stage fight  Rock singer ...  entertainment   \n",
              "3     Snicket tops US box office chart  The film ada...  entertainment   \n",
              "4     Oceans Twelve raids box office  Oceans Twelve,...  entertainment   \n",
              "...                                                 ...            ...   \n",
              "2220  Warning over Windows Word files  Writing a Mic...           tech   \n",
              "2221  Fast lifts rise into record books  Two high-sp...           tech   \n",
              "2222  Nintendo adds media playing to DS  Nintendo is...           tech   \n",
              "2223  Fast moving phone viruses appear  Security fir...           tech   \n",
              "2224  Hacker threat to Apples iTunes  Users of Apple...           tech   \n",
              "\n",
              "                                       review_processed  \n",
              "0     [musicians, tackle, red, tape, musicians, grou...  \n",
              "1     [desire, number, u, won, prestigious, grammy, ...  \n",
              "2     [rocker, doherty, onstage, fight, rock, singer...  \n",
              "3     [snicket, tops, box, office, chart, film, adap...  \n",
              "4     [oceans, raids, box, office, oceans, crime, ca...  \n",
              "...                                                 ...  \n",
              "2220  [warning, windows, word, files, writing, micro...  \n",
              "2221  [fast, lifts, rise, record, books, highspeed, ...  \n",
              "2222  [nintendo, adds, media, playing, ds, nintendo,...  \n",
              "2223  [fast, moving, phone, viruses, appear, securit...  \n",
              "2224  [hacker, threat, apples, itunes, users, apples...  \n",
              "\n",
              "[2225 rows x 3 columns]"
            ],
            "text/html": [
              "\n",
              "  <div id=\"df-10635cef-67aa-4d4d-a4ed-4ff59fd6ef0d\" class=\"colab-df-container\">\n",
              "    <div>\n",
              "<style scoped>\n",
              "    .dataframe tbody tr th:only-of-type {\n",
              "        vertical-align: middle;\n",
              "    }\n",
              "\n",
              "    .dataframe tbody tr th {\n",
              "        vertical-align: top;\n",
              "    }\n",
              "\n",
              "    .dataframe thead th {\n",
              "        text-align: right;\n",
              "    }\n",
              "</style>\n",
              "<table border=\"1\" class=\"dataframe\">\n",
              "  <thead>\n",
              "    <tr style=\"text-align: right;\">\n",
              "      <th></th>\n",
              "      <th>data</th>\n",
              "      <th>labels</th>\n",
              "      <th>review_processed</th>\n",
              "    </tr>\n",
              "  </thead>\n",
              "  <tbody>\n",
              "    <tr>\n",
              "      <th>0</th>\n",
              "      <td>Musicians to tackle US red tape  Musicians gro...</td>\n",
              "      <td>entertainment</td>\n",
              "      <td>[musicians, tackle, red, tape, musicians, grou...</td>\n",
              "    </tr>\n",
              "    <tr>\n",
              "      <th>1</th>\n",
              "      <td>U2s desire to be number one  U2, who have won ...</td>\n",
              "      <td>entertainment</td>\n",
              "      <td>[desire, number, u, won, prestigious, grammy, ...</td>\n",
              "    </tr>\n",
              "    <tr>\n",
              "      <th>2</th>\n",
              "      <td>Rocker Doherty in on-stage fight  Rock singer ...</td>\n",
              "      <td>entertainment</td>\n",
              "      <td>[rocker, doherty, onstage, fight, rock, singer...</td>\n",
              "    </tr>\n",
              "    <tr>\n",
              "      <th>3</th>\n",
              "      <td>Snicket tops US box office chart  The film ada...</td>\n",
              "      <td>entertainment</td>\n",
              "      <td>[snicket, tops, box, office, chart, film, adap...</td>\n",
              "    </tr>\n",
              "    <tr>\n",
              "      <th>4</th>\n",
              "      <td>Oceans Twelve raids box office  Oceans Twelve,...</td>\n",
              "      <td>entertainment</td>\n",
              "      <td>[oceans, raids, box, office, oceans, crime, ca...</td>\n",
              "    </tr>\n",
              "    <tr>\n",
              "      <th>...</th>\n",
              "      <td>...</td>\n",
              "      <td>...</td>\n",
              "      <td>...</td>\n",
              "    </tr>\n",
              "    <tr>\n",
              "      <th>2220</th>\n",
              "      <td>Warning over Windows Word files  Writing a Mic...</td>\n",
              "      <td>tech</td>\n",
              "      <td>[warning, windows, word, files, writing, micro...</td>\n",
              "    </tr>\n",
              "    <tr>\n",
              "      <th>2221</th>\n",
              "      <td>Fast lifts rise into record books  Two high-sp...</td>\n",
              "      <td>tech</td>\n",
              "      <td>[fast, lifts, rise, record, books, highspeed, ...</td>\n",
              "    </tr>\n",
              "    <tr>\n",
              "      <th>2222</th>\n",
              "      <td>Nintendo adds media playing to DS  Nintendo is...</td>\n",
              "      <td>tech</td>\n",
              "      <td>[nintendo, adds, media, playing, ds, nintendo,...</td>\n",
              "    </tr>\n",
              "    <tr>\n",
              "      <th>2223</th>\n",
              "      <td>Fast moving phone viruses appear  Security fir...</td>\n",
              "      <td>tech</td>\n",
              "      <td>[fast, moving, phone, viruses, appear, securit...</td>\n",
              "    </tr>\n",
              "    <tr>\n",
              "      <th>2224</th>\n",
              "      <td>Hacker threat to Apples iTunes  Users of Apple...</td>\n",
              "      <td>tech</td>\n",
              "      <td>[hacker, threat, apples, itunes, users, apples...</td>\n",
              "    </tr>\n",
              "  </tbody>\n",
              "</table>\n",
              "<p>2225 rows × 3 columns</p>\n",
              "</div>\n",
              "    <div class=\"colab-df-buttons\">\n",
              "\n",
              "  <div class=\"colab-df-container\">\n",
              "    <button class=\"colab-df-convert\" onclick=\"convertToInteractive('df-10635cef-67aa-4d4d-a4ed-4ff59fd6ef0d')\"\n",
              "            title=\"Convert this dataframe to an interactive table.\"\n",
              "            style=\"display:none;\">\n",
              "\n",
              "  <svg xmlns=\"http://www.w3.org/2000/svg\" height=\"24px\" viewBox=\"0 -960 960 960\">\n",
              "    <path d=\"M120-120v-720h720v720H120Zm60-500h600v-160H180v160Zm220 220h160v-160H400v160Zm0 220h160v-160H400v160ZM180-400h160v-160H180v160Zm440 0h160v-160H620v160ZM180-180h160v-160H180v160Zm440 0h160v-160H620v160Z\"/>\n",
              "  </svg>\n",
              "    </button>\n",
              "\n",
              "  <style>\n",
              "    .colab-df-container {\n",
              "      display:flex;\n",
              "      gap: 12px;\n",
              "    }\n",
              "\n",
              "    .colab-df-convert {\n",
              "      background-color: #E8F0FE;\n",
              "      border: none;\n",
              "      border-radius: 50%;\n",
              "      cursor: pointer;\n",
              "      display: none;\n",
              "      fill: #1967D2;\n",
              "      height: 32px;\n",
              "      padding: 0 0 0 0;\n",
              "      width: 32px;\n",
              "    }\n",
              "\n",
              "    .colab-df-convert:hover {\n",
              "      background-color: #E2EBFA;\n",
              "      box-shadow: 0px 1px 2px rgba(60, 64, 67, 0.3), 0px 1px 3px 1px rgba(60, 64, 67, 0.15);\n",
              "      fill: #174EA6;\n",
              "    }\n",
              "\n",
              "    .colab-df-buttons div {\n",
              "      margin-bottom: 4px;\n",
              "    }\n",
              "\n",
              "    [theme=dark] .colab-df-convert {\n",
              "      background-color: #3B4455;\n",
              "      fill: #D2E3FC;\n",
              "    }\n",
              "\n",
              "    [theme=dark] .colab-df-convert:hover {\n",
              "      background-color: #434B5C;\n",
              "      box-shadow: 0px 1px 3px 1px rgba(0, 0, 0, 0.15);\n",
              "      filter: drop-shadow(0px 1px 2px rgba(0, 0, 0, 0.3));\n",
              "      fill: #FFFFFF;\n",
              "    }\n",
              "  </style>\n",
              "\n",
              "    <script>\n",
              "      const buttonEl =\n",
              "        document.querySelector('#df-10635cef-67aa-4d4d-a4ed-4ff59fd6ef0d button.colab-df-convert');\n",
              "      buttonEl.style.display =\n",
              "        google.colab.kernel.accessAllowed ? 'block' : 'none';\n",
              "\n",
              "      async function convertToInteractive(key) {\n",
              "        const element = document.querySelector('#df-10635cef-67aa-4d4d-a4ed-4ff59fd6ef0d');\n",
              "        const dataTable =\n",
              "          await google.colab.kernel.invokeFunction('convertToInteractive',\n",
              "                                                    [key], {});\n",
              "        if (!dataTable) return;\n",
              "\n",
              "        const docLinkHtml = 'Like what you see? Visit the ' +\n",
              "          '<a target=\"_blank\" href=https://colab.research.google.com/notebooks/data_table.ipynb>data table notebook</a>'\n",
              "          + ' to learn more about interactive tables.';\n",
              "        element.innerHTML = '';\n",
              "        dataTable['output_type'] = 'display_data';\n",
              "        await google.colab.output.renderOutput(dataTable, element);\n",
              "        const docLink = document.createElement('div');\n",
              "        docLink.innerHTML = docLinkHtml;\n",
              "        element.appendChild(docLink);\n",
              "      }\n",
              "    </script>\n",
              "  </div>\n",
              "\n",
              "\n",
              "<div id=\"df-6f727a49-3bc8-4677-963e-504348a6a7c6\">\n",
              "  <button class=\"colab-df-quickchart\" onclick=\"quickchart('df-6f727a49-3bc8-4677-963e-504348a6a7c6')\"\n",
              "            title=\"Suggest charts\"\n",
              "            style=\"display:none;\">\n",
              "\n",
              "<svg xmlns=\"http://www.w3.org/2000/svg\" height=\"24px\"viewBox=\"0 0 24 24\"\n",
              "     width=\"24px\">\n",
              "    <g>\n",
              "        <path d=\"M19 3H5c-1.1 0-2 .9-2 2v14c0 1.1.9 2 2 2h14c1.1 0 2-.9 2-2V5c0-1.1-.9-2-2-2zM9 17H7v-7h2v7zm4 0h-2V7h2v10zm4 0h-2v-4h2v4z\"/>\n",
              "    </g>\n",
              "</svg>\n",
              "  </button>\n",
              "\n",
              "<style>\n",
              "  .colab-df-quickchart {\n",
              "      --bg-color: #E8F0FE;\n",
              "      --fill-color: #1967D2;\n",
              "      --hover-bg-color: #E2EBFA;\n",
              "      --hover-fill-color: #174EA6;\n",
              "      --disabled-fill-color: #AAA;\n",
              "      --disabled-bg-color: #DDD;\n",
              "  }\n",
              "\n",
              "  [theme=dark] .colab-df-quickchart {\n",
              "      --bg-color: #3B4455;\n",
              "      --fill-color: #D2E3FC;\n",
              "      --hover-bg-color: #434B5C;\n",
              "      --hover-fill-color: #FFFFFF;\n",
              "      --disabled-bg-color: #3B4455;\n",
              "      --disabled-fill-color: #666;\n",
              "  }\n",
              "\n",
              "  .colab-df-quickchart {\n",
              "    background-color: var(--bg-color);\n",
              "    border: none;\n",
              "    border-radius: 50%;\n",
              "    cursor: pointer;\n",
              "    display: none;\n",
              "    fill: var(--fill-color);\n",
              "    height: 32px;\n",
              "    padding: 0;\n",
              "    width: 32px;\n",
              "  }\n",
              "\n",
              "  .colab-df-quickchart:hover {\n",
              "    background-color: var(--hover-bg-color);\n",
              "    box-shadow: 0 1px 2px rgba(60, 64, 67, 0.3), 0 1px 3px 1px rgba(60, 64, 67, 0.15);\n",
              "    fill: var(--button-hover-fill-color);\n",
              "  }\n",
              "\n",
              "  .colab-df-quickchart-complete:disabled,\n",
              "  .colab-df-quickchart-complete:disabled:hover {\n",
              "    background-color: var(--disabled-bg-color);\n",
              "    fill: var(--disabled-fill-color);\n",
              "    box-shadow: none;\n",
              "  }\n",
              "\n",
              "  .colab-df-spinner {\n",
              "    border: 2px solid var(--fill-color);\n",
              "    border-color: transparent;\n",
              "    border-bottom-color: var(--fill-color);\n",
              "    animation:\n",
              "      spin 1s steps(1) infinite;\n",
              "  }\n",
              "\n",
              "  @keyframes spin {\n",
              "    0% {\n",
              "      border-color: transparent;\n",
              "      border-bottom-color: var(--fill-color);\n",
              "      border-left-color: var(--fill-color);\n",
              "    }\n",
              "    20% {\n",
              "      border-color: transparent;\n",
              "      border-left-color: var(--fill-color);\n",
              "      border-top-color: var(--fill-color);\n",
              "    }\n",
              "    30% {\n",
              "      border-color: transparent;\n",
              "      border-left-color: var(--fill-color);\n",
              "      border-top-color: var(--fill-color);\n",
              "      border-right-color: var(--fill-color);\n",
              "    }\n",
              "    40% {\n",
              "      border-color: transparent;\n",
              "      border-right-color: var(--fill-color);\n",
              "      border-top-color: var(--fill-color);\n",
              "    }\n",
              "    60% {\n",
              "      border-color: transparent;\n",
              "      border-right-color: var(--fill-color);\n",
              "    }\n",
              "    80% {\n",
              "      border-color: transparent;\n",
              "      border-right-color: var(--fill-color);\n",
              "      border-bottom-color: var(--fill-color);\n",
              "    }\n",
              "    90% {\n",
              "      border-color: transparent;\n",
              "      border-bottom-color: var(--fill-color);\n",
              "    }\n",
              "  }\n",
              "</style>\n",
              "\n",
              "  <script>\n",
              "    async function quickchart(key) {\n",
              "      const quickchartButtonEl =\n",
              "        document.querySelector('#' + key + ' button');\n",
              "      quickchartButtonEl.disabled = true;  // To prevent multiple clicks.\n",
              "      quickchartButtonEl.classList.add('colab-df-spinner');\n",
              "      try {\n",
              "        const charts = await google.colab.kernel.invokeFunction(\n",
              "            'suggestCharts', [key], {});\n",
              "      } catch (error) {\n",
              "        console.error('Error during call to suggestCharts:', error);\n",
              "      }\n",
              "      quickchartButtonEl.classList.remove('colab-df-spinner');\n",
              "      quickchartButtonEl.classList.add('colab-df-quickchart-complete');\n",
              "    }\n",
              "    (() => {\n",
              "      let quickchartButtonEl =\n",
              "        document.querySelector('#df-6f727a49-3bc8-4677-963e-504348a6a7c6 button');\n",
              "      quickchartButtonEl.style.display =\n",
              "        google.colab.kernel.accessAllowed ? 'block' : 'none';\n",
              "    })();\n",
              "  </script>\n",
              "</div>\n",
              "\n",
              "  <div id=\"id_821524bd-8bcb-4f11-865f-a5e0529cf646\">\n",
              "    <style>\n",
              "      .colab-df-generate {\n",
              "        background-color: #E8F0FE;\n",
              "        border: none;\n",
              "        border-radius: 50%;\n",
              "        cursor: pointer;\n",
              "        display: none;\n",
              "        fill: #1967D2;\n",
              "        height: 32px;\n",
              "        padding: 0 0 0 0;\n",
              "        width: 32px;\n",
              "      }\n",
              "\n",
              "      .colab-df-generate:hover {\n",
              "        background-color: #E2EBFA;\n",
              "        box-shadow: 0px 1px 2px rgba(60, 64, 67, 0.3), 0px 1px 3px 1px rgba(60, 64, 67, 0.15);\n",
              "        fill: #174EA6;\n",
              "      }\n",
              "\n",
              "      [theme=dark] .colab-df-generate {\n",
              "        background-color: #3B4455;\n",
              "        fill: #D2E3FC;\n",
              "      }\n",
              "\n",
              "      [theme=dark] .colab-df-generate:hover {\n",
              "        background-color: #434B5C;\n",
              "        box-shadow: 0px 1px 3px 1px rgba(0, 0, 0, 0.15);\n",
              "        filter: drop-shadow(0px 1px 2px rgba(0, 0, 0, 0.3));\n",
              "        fill: #FFFFFF;\n",
              "      }\n",
              "    </style>\n",
              "    <button class=\"colab-df-generate\" onclick=\"generateWithVariable('data')\"\n",
              "            title=\"Generate code using this dataframe.\"\n",
              "            style=\"display:none;\">\n",
              "\n",
              "  <svg xmlns=\"http://www.w3.org/2000/svg\" height=\"24px\"viewBox=\"0 0 24 24\"\n",
              "       width=\"24px\">\n",
              "    <path d=\"M7,19H8.4L18.45,9,17,7.55,7,17.6ZM5,21V16.75L18.45,3.32a2,2,0,0,1,2.83,0l1.4,1.43a1.91,1.91,0,0,1,.58,1.4,1.91,1.91,0,0,1-.58,1.4L9.25,21ZM18.45,9,17,7.55Zm-12,3A5.31,5.31,0,0,0,4.9,8.1,5.31,5.31,0,0,0,1,6.5,5.31,5.31,0,0,0,4.9,4.9,5.31,5.31,0,0,0,6.5,1,5.31,5.31,0,0,0,8.1,4.9,5.31,5.31,0,0,0,12,6.5,5.46,5.46,0,0,0,6.5,12Z\"/>\n",
              "  </svg>\n",
              "    </button>\n",
              "    <script>\n",
              "      (() => {\n",
              "      const buttonEl =\n",
              "        document.querySelector('#id_821524bd-8bcb-4f11-865f-a5e0529cf646 button.colab-df-generate');\n",
              "      buttonEl.style.display =\n",
              "        google.colab.kernel.accessAllowed ? 'block' : 'none';\n",
              "\n",
              "      buttonEl.onclick = () => {\n",
              "        google.colab.notebook.generateWithVariable('data');\n",
              "      }\n",
              "      })();\n",
              "    </script>\n",
              "  </div>\n",
              "\n",
              "    </div>\n",
              "  </div>\n"
            ],
            "application/vnd.google.colaboratory.intrinsic+json": {
              "type": "dataframe",
              "variable_name": "data",
              "summary": "{\n  \"name\": \"data\",\n  \"rows\": 2225,\n  \"fields\": [\n    {\n      \"column\": \"data\",\n      \"properties\": {\n        \"dtype\": \"string\",\n        \"num_unique_values\": 2126,\n        \"samples\": [\n          \"Media seek Jackson juror notes  Reporters covering singer Michael Jacksons trial in California have asked to see questionnaires completed by potential jurors.  Lawyers for news organisations said it was \\\"really vital\\\" for the responses of 250 potential jurors to be made public \\\"to serve as a check on the process\\\". Santa Barbara County Superior Court is due to consider the request on Monday. Mr Jackson denies child molestation. It is estimated his trial will cost Santa Barbara county up to $4m (xc2xa32.13m).  Meanwhile Michael Jacksons mother has said she is \\\"100% certain\\\" her son did not commit the child abuse charges he faces. The court is currently selecting 12 jurors and eight stand-by jurors for the trial, a process delayed until at least Thursday after a member of the stars legal team was hit by family illness. Defence lawyers argued against the bid by Associated Press and other news organisations to have potential jurors responses made public.  \\\"The release of the completed jury questionnaires does not serve any purpose other than to add to the sensationalist coverage of this case,\\\" a motion by Mr Jacksons lawyers stated. The estimated total costs of the trial, expected to last five months, range from $2.5m (xc2xa31.33m) to $4m (xc2xa32.13m) of local taxpayers money. Those estimates do not include costs to the city of Santa Maria, the Superior Court or for the investigation and prosecution of the case. The cost of security and other needs around the courthouse has been estimated at $40,000 (xc2xa321,000) per day, said Jason Stilwell, a special projects manager at the county administrators office.  Mr Jackson, 46, denies plying a boy with alcohol and molesting him. His mother Katherine Jackson told US TV network Fox News on Sunday that her pop star son told her he was innocent. \\\"I believe that for one reason - I know his character,\\\" she said. \\\"He loves children. You dont molest anything that you love.\\\" Describing Mr Jackson as \\\"a good person\\\", the mother-of-nine said she feared he would not be given a fair trial. \\\"I cant sleep thinking about what these wicked people might try to do to him,\\\" she said. \",\n          \"Game firm holds cast auditions  Video game firm Bioware is to hold open auditions for people to become cast members for future games.  The company, which makes role playing games such as Knights of the Old Republic and Neverwinter Nights, is seeking people aged 18 to 99. The Canada-based company says it was looking for \\\"a wide variety of people to use as face models for characters\\\". Everyone chosen to appear in a video game will receive a performers fee for the use of their image. The company is inviting people to come along to a shopping mall in West Edmonton, Alberta, on Friday and Saturday, bringing along a piece of photo identification.  \\\"There are hundreds and hundreds of characters in a typical Bioware game,\\\" said Shauna Perry, Biowares audio and external resources producer. \\\"Those people live in any city and village and so we need ordinary people, people with interesting faces.\\\" She added: \\\"Not everyone is a model in the world so we dont want just models in our games.\\\" People chosen to appear in a game will have their head scanned in three dimensions. Hundreds of photos of the persons head are taken so that a model of the head can be generated in 3D. \\\"The 3D model will look exactly like the person - its really quite incredible how detailed they are,\\\" said Ms Perry. She said chosen participants will have no control over how the image is used in a computer game. \\\"We cannot give people any control over how the images are used. \\\"But their face could be used in multiple games - so they could be the hero in one, the villain in another and just a merchant in a third.\\\" \",\n          \"Citizenship event for 18s touted  Citizenship ceremonies could be introduced for people celebrating their 18th birthday, Charles Clarke has said.  The idea will be tried as part of an overhaul of the way government approaches \\\"inclusive citizenship\\\" particularly for ethnic minorities. A pilot scheme based on ceremonies in Australia will start in October. Mr Clarke said it would be a way of recognising young people reaching their voting age when they also gain greater independence from parents. Britains young black and Asian people are to be encouraged to learn about the nations heritage as part of the governments new race strategy which will also target specific issues within different ethnic minority groups. Officials say the home secretary wants young people to feel they belong and to understand their \\\"other cultural identities\\\" alongside being British. The launch follows a row about the role of faith schools in Britain. On Monday school inspection chief David Bell, accused some Islamic schools of failing to teach pupils about their obligations to British society.  The Muslim Council of Britain said Ofsted boss Mr Bells comments were \\\"highly irresponsible\\\". The Home Office started work on its Community Cohesion and Race Equality Strategy last year and the outcome, launched on Wednesday, is called Improving Opportunity, Strengthening Society. It is aimed at tackling racism, exclusion, segregation and the rise in political and religious extremism. \\\"It represents a move away from the one-size-fits-all approach to focus on specifics within cultural groups,\\\" said a Home Office spokesman. \\\"It is not right to say that if you are from a black or ethnic minority group you must be disadvantaged.\\\" The spokesman highlighted specific issues that affect particular communities - for example people of south Asian origin tend to suffer from a high incidence of heart disease.  \\\"It is about drilling down and focusing on these sorts of problems,\\\" the spokesman added. Launching the initiative Mr Clarke said enormous progress had been made on race issues in recent years. He added: \\\"But while many members of black and minority ethnic communities are thriving, some may still find it harder to succeed in employment or gain access to healthcare, education or housing. \\\"This strategy sets out the governments commitment to doing more to identify and respond to the specific needs of minorities in our society.\\\" Some 8% of the UK population described themselves as coming from a non-white ethnic minority in the 2001 Census.  The Downing Street Strategy Unit in 2003 said people from Indian and Chinese backgrounds were doing well on average, often outperforming white people in education and earnings. But those of Pakistani, Bangladeshi and black Caribbean origin were significantly more likely to be unemployed and earn less than whites, it said. The Home Office wants more initiatives which try to promote a sense of belonging by encouraging young people to take part in voluntary work. The programmes are designed to support the citizenship lessons already taking place in schools. \"\n        ],\n        \"semantic_type\": \"\",\n        \"description\": \"\"\n      }\n    },\n    {\n      \"column\": \"labels\",\n      \"properties\": {\n        \"dtype\": \"category\",\n        \"num_unique_values\": 5,\n        \"samples\": [\n          \"business\",\n          \"tech\",\n          \"sport\"\n        ],\n        \"semantic_type\": \"\",\n        \"description\": \"\"\n      }\n    },\n    {\n      \"column\": \"review_processed\",\n      \"properties\": {\n        \"dtype\": \"object\",\n        \"semantic_type\": \"\",\n        \"description\": \"\"\n      }\n    }\n  ]\n}"
            }
          },
          "metadata": {},
          "execution_count": 6
        }
      ]
    },
    {
      "cell_type": "code",
      "metadata": {
        "id": "IgG0FApgWpB0"
      },
      "source": [
        "model = Word2Vec(sentences=data['review_processed'].tolist(), vector_size=128, sg=1,min_count=5,window=5,workers=50,seed=10,epochs=50)\n",
        "#vector_size (int, optional) – Dimensionality of the word vectors.\n",
        "#min_count (int, optional) – Ignores all words with total frequency lower than this.\n",
        "#window (int, optional) – Maximum distance between the current and predicted word within a sentence.\n",
        "#workers (int, optional) – Use these many worker threads to train the model (=faster training with multicore machines).\n",
        "#sg ({0, 1}, optional) – Training algorithm: 1 for skip-gram; otherwise CBOW.\n",
        "#epochs (int, optional) – Number of iterations (epochs) over the corpus. (Formerly: iter)\n",
        "\n",
        "#The meaning of most of the parameters are beyond the scope of this class. If interested, please check the official documentations: https://radimrehurek.com/gensim/models/word2vec.html"
      ],
      "execution_count": 7,
      "outputs": []
    },
    {
      "cell_type": "code",
      "source": [
        "model.save('w2v_dr.w2v')"
      ],
      "metadata": {
        "id": "pOEGR_TwnUz-"
      },
      "execution_count": 8,
      "outputs": []
    },
    {
      "cell_type": "code",
      "source": [
        "model=Word2Vec.load('w2v_dr.w2v')"
      ],
      "metadata": {
        "id": "cx4irfY8nimY"
      },
      "execution_count": 9,
      "outputs": []
    },
    {
      "cell_type": "code",
      "metadata": {
        "id": "PWLAMRJOZUX5"
      },
      "source": [
        "vocab = model.wv.index_to_key"
      ],
      "execution_count": 10,
      "outputs": []
    },
    {
      "cell_type": "code",
      "metadata": {
        "colab": {
          "base_uri": "https://localhost:8080/"
        },
        "id": "1bFsWaWgeaOd",
        "outputId": "6c6851b6-a80b-4b63-f238-08a0d0d3bc5d"
      },
      "source": [
        "len(vocab)"
      ],
      "execution_count": 11,
      "outputs": [
        {
          "output_type": "execute_result",
          "data": {
            "text/plain": [
              "10632"
            ]
          },
          "metadata": {},
          "execution_count": 11
        }
      ]
    },
    {
      "cell_type": "code",
      "metadata": {
        "id": "jKwZ8owN_aoy"
      },
      "source": [
        "similar_words_economic = model.wv.most_similar('economic', topn=10)\n"
      ],
      "execution_count": 27,
      "outputs": []
    },
    {
      "cell_type": "code",
      "metadata": {
        "colab": {
          "base_uri": "https://localhost:8080/"
        },
        "id": "pV7SoEj6Hvwe",
        "outputId": "151b1c2d-203d-44f9-bb9f-0b29bdaeba11"
      },
      "source": [
        "similar_to_market = model.wv.most_similar('market', topn=10)\n",
        "print(\"Words similar to 'market':\", similar_to_market)\n"
      ],
      "execution_count": 34,
      "outputs": [
        {
          "output_type": "stream",
          "name": "stdout",
          "text": [
            "Words similar to 'market': [('stock', 0.6559345126152039), ('housing', 0.5443857312202454), ('analysts', 0.5292600393295288), ('diageo', 0.5070195198059082), ('volatility', 0.5044599175453186), ('beer', 0.5010448098182678), ('share', 0.4952645003795624), ('prices', 0.4948011636734009), ('bb', 0.48961174488067627), ('ntpc', 0.48251867294311523)]\n"
          ]
        }
      ]
    },
    {
      "cell_type": "code",
      "source": [
        "similar_to_stock = model.wv.most_similar('stock', topn=10)\n",
        "print(\"Words similar to 'stock':\", similar_to_stock)"
      ],
      "metadata": {
        "colab": {
          "base_uri": "https://localhost:8080/"
        },
        "id": "lTVCMKOnBNM0",
        "outputId": "e103cf99-8da9-49e7-d258-b6acd208c9aa"
      },
      "execution_count": 45,
      "outputs": [
        {
          "output_type": "stream",
          "name": "stdout",
          "text": [
            "Words similar to 'stock': [('exchange', 0.7210121750831604), ('market', 0.6559345722198486), ('nasdaq', 0.5957955121994019), ('shares', 0.5836014151573181), ('liffe', 0.5803655385971069), ('paneuropean', 0.5782151222229004), ('derivatives', 0.5685465931892395), ('furse', 0.5594297647476196), ('lse', 0.540107011795044), ('jarvis', 0.530662477016449)]\n"
          ]
        }
      ]
    },
    {
      "cell_type": "code",
      "metadata": {
        "id": "VcroYclnZfJb"
      },
      "source": [
        "v_time = model.wv['time']"
      ],
      "execution_count": 29,
      "outputs": []
    },
    {
      "cell_type": "code",
      "metadata": {
        "colab": {
          "base_uri": "https://localhost:8080/"
        },
        "id": "5y-fFjlgD16i",
        "outputId": "8eb33054-0b11-4fad-d204-ecec4cc26328"
      },
      "source": [
        "v_time"
      ],
      "execution_count": 30,
      "outputs": [
        {
          "output_type": "execute_result",
          "data": {
            "text/plain": [
              "array([ 3.93409729e-01,  7.86606222e-02,  2.11527012e-02, -9.35275853e-02,\n",
              "       -3.12899560e-01, -6.83464333e-02, -1.59379393e-01,  2.50472277e-01,\n",
              "       -1.23253420e-01, -2.16617268e-02,  4.17856798e-02,  7.71670640e-02,\n",
              "       -1.90472171e-01,  1.31109059e-01, -1.64578840e-01,  7.52577662e-01,\n",
              "       -1.93452030e-01, -3.78494084e-01, -1.08126558e-01, -1.45589009e-01,\n",
              "       -7.85392374e-02,  1.84485495e-01,  2.29829133e-01,  1.69841364e-01,\n",
              "       -1.01956613e-01, -1.50836250e-02,  1.80942789e-01, -4.11247551e-01,\n",
              "        2.44402751e-01,  2.39720374e-01, -7.17381686e-02, -3.80317777e-01,\n",
              "        1.24796890e-01, -1.50722489e-01, -2.59583622e-01,  8.49345326e-02,\n",
              "        4.90443148e-02, -4.22395527e-01,  1.36639342e-01, -4.03794721e-02,\n",
              "        4.01244760e-01,  3.93302384e-04, -3.13014030e-01, -5.44882901e-02,\n",
              "        1.56415235e-02, -4.55934033e-02, -3.31228644e-01, -1.53130382e-01,\n",
              "       -7.23584071e-02,  7.95522109e-02,  4.32386637e-01,  2.32924789e-01,\n",
              "       -4.26189341e-02, -2.04228312e-01,  2.20828101e-01,  5.01735747e-01,\n",
              "       -1.89114362e-01, -1.60820812e-01, -4.64174300e-02,  2.83489227e-01,\n",
              "        5.86442053e-02, -2.84289811e-02,  2.51870185e-01, -3.51173818e-01,\n",
              "        9.42163616e-02,  2.72961017e-02,  8.28684419e-02, -3.50907594e-02,\n",
              "        3.36958021e-01, -4.77964394e-02,  1.34983763e-01, -3.53428990e-01,\n",
              "       -2.23862857e-01, -1.01033464e-01,  7.52256289e-02,  2.09189311e-01,\n",
              "        3.84047367e-02,  3.63860428e-01, -7.45748058e-02,  2.60646999e-01,\n",
              "       -2.38539636e-01,  6.36838749e-02, -2.67459810e-01,  3.86272997e-01,\n",
              "       -1.86727896e-01, -1.24632753e-01,  3.19827199e-01, -1.26622915e-01,\n",
              "        3.60592306e-01,  1.84880540e-01, -9.15213525e-02, -8.71577263e-02,\n",
              "        2.38959142e-03, -2.42925048e-01, -5.94934821e-02, -9.22645107e-02,\n",
              "       -5.51264696e-02,  4.82192859e-02, -2.28788674e-01,  3.89067948e-01,\n",
              "        8.49296898e-02,  1.95768878e-01, -6.25088587e-02, -3.50020260e-01,\n",
              "       -3.52291971e-01,  3.43892932e-01,  1.95453405e-01, -6.36879057e-02,\n",
              "        1.03414267e-01, -1.08336814e-01, -1.34461775e-01,  2.38162857e-02,\n",
              "        4.63270575e-01, -6.09407835e-02, -7.70560130e-02, -2.96448886e-01,\n",
              "       -3.22352350e-02,  2.19769448e-01,  3.04274321e-01, -4.06152636e-01,\n",
              "       -2.18070447e-01,  1.66409872e-02,  3.29062372e-01, -3.43403876e-01,\n",
              "       -3.33874971e-02, -6.93444312e-02, -7.04215765e-02,  1.56142294e-01],\n",
              "      dtype=float32)"
            ]
          },
          "metadata": {},
          "execution_count": 30
        }
      ]
    },
    {
      "cell_type": "code",
      "metadata": {
        "colab": {
          "base_uri": "https://localhost:8080/"
        },
        "id": "wKA3xlkcbNb6",
        "outputId": "94376f60-f7dd-4f26-ec90-37cc9a0e7754"
      },
      "source": [
        "model.wv.similarity('market', 'demand')"
      ],
      "execution_count": 35,
      "outputs": [
        {
          "output_type": "execute_result",
          "data": {
            "text/plain": [
              "0.4216482"
            ]
          },
          "metadata": {},
          "execution_count": 35
        }
      ]
    },
    {
      "cell_type": "code",
      "metadata": {
        "colab": {
          "base_uri": "https://localhost:8080/"
        },
        "id": "wKtOd8tnbaDg",
        "outputId": "e046cb98-4cd6-4eed-b3c8-73aedbb1c5fb"
      },
      "source": [
        "model.wv.similarity('market', 'stock')"
      ],
      "execution_count": 39,
      "outputs": [
        {
          "output_type": "execute_result",
          "data": {
            "text/plain": [
              "0.65593445"
            ]
          },
          "metadata": {},
          "execution_count": 39
        }
      ]
    },
    {
      "cell_type": "code",
      "source": [
        "model.wv.similarity('market', 'housing')"
      ],
      "metadata": {
        "colab": {
          "base_uri": "https://localhost:8080/"
        },
        "id": "zSePNYiRA5yl",
        "outputId": "fa70eafa-94fc-4477-85b0-16f776ba4f81"
      },
      "execution_count": 41,
      "outputs": [
        {
          "output_type": "execute_result",
          "data": {
            "text/plain": [
              "0.5443857"
            ]
          },
          "metadata": {},
          "execution_count": 41
        }
      ]
    },
    {
      "cell_type": "code",
      "metadata": {
        "colab": {
          "base_uri": "https://localhost:8080/"
        },
        "id": "Qgv5cIdBHZUi",
        "outputId": "e5878612-0290-46b1-968a-e78e6d2f1a65"
      },
      "source": [
        "model.wv.similarity('stock', 'housing')"
      ],
      "execution_count": 43,
      "outputs": [
        {
          "output_type": "execute_result",
          "data": {
            "text/plain": [
              "0.39127213"
            ]
          },
          "metadata": {},
          "execution_count": 43
        }
      ]
    },
    {
      "cell_type": "code",
      "metadata": {
        "colab": {
          "base_uri": "https://localhost:8080/"
        },
        "id": "Rol_5x_iHc5y",
        "outputId": "92439a01-1400-4c8c-93ca-1469ddc4dca2"
      },
      "source": [
        "model.wv.similarity('demand', 'housing')"
      ],
      "execution_count": 44,
      "outputs": [
        {
          "output_type": "execute_result",
          "data": {
            "text/plain": [
              "0.2726581"
            ]
          },
          "metadata": {},
          "execution_count": 44
        }
      ]
    },
    {
      "cell_type": "code",
      "source": [
        "import numpy as np\n",
        "\n",
        "v_market = model.wv['market']\n",
        "v_stock = model.wv['stock']\n",
        "v_housing = model.wv['housing']\n",
        "\n",
        "effect_on_market = v_stock + v_housing - v_market\n",
        "most_similar_to_effect = model.wv.similar_by_vector(effect_on_market, topn=1)\n",
        "print(\"Effect on market:\", most_similar_to_effect)\n"
      ],
      "metadata": {
        "colab": {
          "base_uri": "https://localhost:8080/"
        },
        "id": "tfCc8JNgCFQ4",
        "outputId": "b003abcf-9f13-4989-d8e2-ec25ba88fa03"
      },
      "execution_count": 46,
      "outputs": [
        {
          "output_type": "stream",
          "name": "stdout",
          "text": [
            "Effect on market: [('housing', 0.8236662149429321)]\n"
          ]
        }
      ]
    },
    {
      "cell_type": "code",
      "source": [
        "sim_stock_housing = np.dot(v_stock, v_housing) / (np.linalg.norm(v_stock) * np.linalg.norm(v_housing))\n",
        "sim_market_stock = np.dot(v_market, v_stock) / (np.linalg.norm(v_market) * np.linalg.norm(v_stock))\n",
        "sim_market_housing = np.dot(v_market, v_housing) / (np.linalg.norm(v_market) * np.linalg.norm(v_housing))\n",
        "\n",
        "print(\"Similarity between stock and housing:\", sim_stock_housing)\n",
        "print(\"Similarity between market and stock:\", sim_market_stock)\n",
        "print(\"Similarity between market and housing:\", sim_market_housing)\n"
      ],
      "metadata": {
        "colab": {
          "base_uri": "https://localhost:8080/"
        },
        "id": "j8obmheOCQPO",
        "outputId": "293f5974-ac1b-4999-b5c6-3aefded7a187"
      },
      "execution_count": 47,
      "outputs": [
        {
          "output_type": "stream",
          "name": "stdout",
          "text": [
            "Similarity between stock and housing: 0.39127222\n",
            "Similarity between market and stock: 0.6559345\n",
            "Similarity between market and housing: 0.5443857\n"
          ]
        }
      ]
    },
    {
      "cell_type": "code",
      "metadata": {
        "colab": {
          "base_uri": "https://localhost:8080/"
        },
        "id": "XuMfapuLeJvR",
        "outputId": "7ab09130-14d3-43ee-a631-a378c83c2130"
      },
      "source": [
        "model.wv.vectors.shape"
      ],
      "execution_count": 48,
      "outputs": [
        {
          "output_type": "execute_result",
          "data": {
            "text/plain": [
              "(10632, 128)"
            ]
          },
          "metadata": {},
          "execution_count": 48
        }
      ]
    },
    {
      "cell_type": "code",
      "metadata": {
        "id": "CEMhumE_erN-"
      },
      "source": [
        "outdata=pd.DataFrame(model.wv.vectors)"
      ],
      "execution_count": 49,
      "outputs": []
    },
    {
      "cell_type": "code",
      "metadata": {
        "colab": {
          "base_uri": "https://localhost:8080/",
          "height": 444
        },
        "id": "nm0uc9_Be6xf",
        "outputId": "840d2a34-593f-459a-8641-e9ca0d3da36e"
      },
      "source": [
        "outdata"
      ],
      "execution_count": 50,
      "outputs": [
        {
          "output_type": "execute_result",
          "data": {
            "text/plain": [
              "            0         1         2         3         4         5         6    \\\n",
              "0      0.104370  0.206082 -0.079514 -0.216631  0.037555 -0.148533  0.011994   \n",
              "1      0.018717  0.339968 -0.138214 -0.332882 -0.083188  0.263354 -0.132040   \n",
              "2     -0.084838  0.303374  0.229663 -0.340535  0.209547  0.168067  0.095079   \n",
              "3     -0.057190  0.328192  0.050758 -0.055139 -0.376549  0.017378 -0.342538   \n",
              "4      0.139052  0.290801 -0.119274 -0.066240 -0.065325  0.020209 -0.398036   \n",
              "...         ...       ...       ...       ...       ...       ...       ...   \n",
              "10627  0.155624  0.351269  0.332209 -0.322271 -0.075639 -0.151874 -0.331515   \n",
              "10628 -0.047006  0.184220  0.134665 -0.042744 -0.004651  0.439266  0.355108   \n",
              "10629  0.716892 -0.126199 -0.131107 -0.211246 -0.167417 -0.348317 -0.582858   \n",
              "10630 -0.425907  0.354710 -0.146872 -0.710721 -0.162246  0.224547 -0.134979   \n",
              "10631  0.013978  0.760706 -0.320962  0.003609 -0.525018  0.170881 -0.613611   \n",
              "\n",
              "            7         8         9    ...       118       119       120  \\\n",
              "0     -0.022771  0.215644  0.070950  ... -0.082352 -0.156408 -0.086693   \n",
              "1     -0.071992  0.226514 -0.128497  ... -0.001504 -0.147479 -0.223386   \n",
              "2      0.084929  0.355188  0.033019  ...  0.113637  0.045817 -0.225663   \n",
              "3     -0.172721  0.006831 -0.129943  ...  0.056367 -0.208461  0.141912   \n",
              "4      0.235810  0.101520 -0.070348  ... -0.027809 -0.417819  0.162734   \n",
              "...         ...       ...       ...  ...       ...       ...       ...   \n",
              "10627  0.455903 -0.449663 -0.072421  ...  0.435945  0.754585  0.087625   \n",
              "10628  0.090030 -0.391904  0.156409  ...  0.393886 -0.600646 -0.586659   \n",
              "10629  0.689375 -0.032264 -0.066126  ...  0.195693  0.396114 -0.521018   \n",
              "10630  0.530851 -0.506097 -0.071030  ...  0.271332 -0.144662 -0.624090   \n",
              "10631  0.141427  0.347463  0.136875  ...  0.659307 -0.652058 -0.082135   \n",
              "\n",
              "            121       122       123       124       125       126       127  \n",
              "0     -0.098123  0.082947  0.016027  0.201507 -0.122029  0.041568 -0.056784  \n",
              "1      0.162715 -0.081506 -0.012474  0.415771 -0.311406 -0.062720 -0.022267  \n",
              "2     -0.188019 -0.076214  0.148782 -0.344297 -0.413902 -0.207845 -0.301695  \n",
              "3      0.313239 -0.227897 -0.344261  0.397110 -0.003402 -0.091323 -0.021947  \n",
              "4      0.277872  0.303382 -0.143776  0.088541 -0.072897 -0.008436 -0.460824  \n",
              "...         ...       ...       ...       ...       ...       ...       ...  \n",
              "10627  0.055762 -0.027146 -0.408740 -0.012137 -0.221980 -0.089819  0.538111  \n",
              "10628  0.124816 -0.180664 -0.353152  0.329068 -0.255650 -0.157809  0.287070  \n",
              "10629 -0.116695 -0.045301 -0.485776  0.367975 -0.060476 -0.177780 -0.279968  \n",
              "10630  0.298668  0.421242 -0.168493  0.863022 -0.466026  0.262811  0.108840  \n",
              "10631  0.211727 -0.350783 -0.033770 -0.327424  0.035331 -0.558636  0.233242  \n",
              "\n",
              "[10632 rows x 128 columns]"
            ],
            "text/html": [
              "\n",
              "  <div id=\"df-64637d44-dbfb-48b7-b253-9b2b1c6aad6a\" class=\"colab-df-container\">\n",
              "    <div>\n",
              "<style scoped>\n",
              "    .dataframe tbody tr th:only-of-type {\n",
              "        vertical-align: middle;\n",
              "    }\n",
              "\n",
              "    .dataframe tbody tr th {\n",
              "        vertical-align: top;\n",
              "    }\n",
              "\n",
              "    .dataframe thead th {\n",
              "        text-align: right;\n",
              "    }\n",
              "</style>\n",
              "<table border=\"1\" class=\"dataframe\">\n",
              "  <thead>\n",
              "    <tr style=\"text-align: right;\">\n",
              "      <th></th>\n",
              "      <th>0</th>\n",
              "      <th>1</th>\n",
              "      <th>2</th>\n",
              "      <th>3</th>\n",
              "      <th>4</th>\n",
              "      <th>5</th>\n",
              "      <th>6</th>\n",
              "      <th>7</th>\n",
              "      <th>8</th>\n",
              "      <th>9</th>\n",
              "      <th>...</th>\n",
              "      <th>118</th>\n",
              "      <th>119</th>\n",
              "      <th>120</th>\n",
              "      <th>121</th>\n",
              "      <th>122</th>\n",
              "      <th>123</th>\n",
              "      <th>124</th>\n",
              "      <th>125</th>\n",
              "      <th>126</th>\n",
              "      <th>127</th>\n",
              "    </tr>\n",
              "  </thead>\n",
              "  <tbody>\n",
              "    <tr>\n",
              "      <th>0</th>\n",
              "      <td>0.104370</td>\n",
              "      <td>0.206082</td>\n",
              "      <td>-0.079514</td>\n",
              "      <td>-0.216631</td>\n",
              "      <td>0.037555</td>\n",
              "      <td>-0.148533</td>\n",
              "      <td>0.011994</td>\n",
              "      <td>-0.022771</td>\n",
              "      <td>0.215644</td>\n",
              "      <td>0.070950</td>\n",
              "      <td>...</td>\n",
              "      <td>-0.082352</td>\n",
              "      <td>-0.156408</td>\n",
              "      <td>-0.086693</td>\n",
              "      <td>-0.098123</td>\n",
              "      <td>0.082947</td>\n",
              "      <td>0.016027</td>\n",
              "      <td>0.201507</td>\n",
              "      <td>-0.122029</td>\n",
              "      <td>0.041568</td>\n",
              "      <td>-0.056784</td>\n",
              "    </tr>\n",
              "    <tr>\n",
              "      <th>1</th>\n",
              "      <td>0.018717</td>\n",
              "      <td>0.339968</td>\n",
              "      <td>-0.138214</td>\n",
              "      <td>-0.332882</td>\n",
              "      <td>-0.083188</td>\n",
              "      <td>0.263354</td>\n",
              "      <td>-0.132040</td>\n",
              "      <td>-0.071992</td>\n",
              "      <td>0.226514</td>\n",
              "      <td>-0.128497</td>\n",
              "      <td>...</td>\n",
              "      <td>-0.001504</td>\n",
              "      <td>-0.147479</td>\n",
              "      <td>-0.223386</td>\n",
              "      <td>0.162715</td>\n",
              "      <td>-0.081506</td>\n",
              "      <td>-0.012474</td>\n",
              "      <td>0.415771</td>\n",
              "      <td>-0.311406</td>\n",
              "      <td>-0.062720</td>\n",
              "      <td>-0.022267</td>\n",
              "    </tr>\n",
              "    <tr>\n",
              "      <th>2</th>\n",
              "      <td>-0.084838</td>\n",
              "      <td>0.303374</td>\n",
              "      <td>0.229663</td>\n",
              "      <td>-0.340535</td>\n",
              "      <td>0.209547</td>\n",
              "      <td>0.168067</td>\n",
              "      <td>0.095079</td>\n",
              "      <td>0.084929</td>\n",
              "      <td>0.355188</td>\n",
              "      <td>0.033019</td>\n",
              "      <td>...</td>\n",
              "      <td>0.113637</td>\n",
              "      <td>0.045817</td>\n",
              "      <td>-0.225663</td>\n",
              "      <td>-0.188019</td>\n",
              "      <td>-0.076214</td>\n",
              "      <td>0.148782</td>\n",
              "      <td>-0.344297</td>\n",
              "      <td>-0.413902</td>\n",
              "      <td>-0.207845</td>\n",
              "      <td>-0.301695</td>\n",
              "    </tr>\n",
              "    <tr>\n",
              "      <th>3</th>\n",
              "      <td>-0.057190</td>\n",
              "      <td>0.328192</td>\n",
              "      <td>0.050758</td>\n",
              "      <td>-0.055139</td>\n",
              "      <td>-0.376549</td>\n",
              "      <td>0.017378</td>\n",
              "      <td>-0.342538</td>\n",
              "      <td>-0.172721</td>\n",
              "      <td>0.006831</td>\n",
              "      <td>-0.129943</td>\n",
              "      <td>...</td>\n",
              "      <td>0.056367</td>\n",
              "      <td>-0.208461</td>\n",
              "      <td>0.141912</td>\n",
              "      <td>0.313239</td>\n",
              "      <td>-0.227897</td>\n",
              "      <td>-0.344261</td>\n",
              "      <td>0.397110</td>\n",
              "      <td>-0.003402</td>\n",
              "      <td>-0.091323</td>\n",
              "      <td>-0.021947</td>\n",
              "    </tr>\n",
              "    <tr>\n",
              "      <th>4</th>\n",
              "      <td>0.139052</td>\n",
              "      <td>0.290801</td>\n",
              "      <td>-0.119274</td>\n",
              "      <td>-0.066240</td>\n",
              "      <td>-0.065325</td>\n",
              "      <td>0.020209</td>\n",
              "      <td>-0.398036</td>\n",
              "      <td>0.235810</td>\n",
              "      <td>0.101520</td>\n",
              "      <td>-0.070348</td>\n",
              "      <td>...</td>\n",
              "      <td>-0.027809</td>\n",
              "      <td>-0.417819</td>\n",
              "      <td>0.162734</td>\n",
              "      <td>0.277872</td>\n",
              "      <td>0.303382</td>\n",
              "      <td>-0.143776</td>\n",
              "      <td>0.088541</td>\n",
              "      <td>-0.072897</td>\n",
              "      <td>-0.008436</td>\n",
              "      <td>-0.460824</td>\n",
              "    </tr>\n",
              "    <tr>\n",
              "      <th>...</th>\n",
              "      <td>...</td>\n",
              "      <td>...</td>\n",
              "      <td>...</td>\n",
              "      <td>...</td>\n",
              "      <td>...</td>\n",
              "      <td>...</td>\n",
              "      <td>...</td>\n",
              "      <td>...</td>\n",
              "      <td>...</td>\n",
              "      <td>...</td>\n",
              "      <td>...</td>\n",
              "      <td>...</td>\n",
              "      <td>...</td>\n",
              "      <td>...</td>\n",
              "      <td>...</td>\n",
              "      <td>...</td>\n",
              "      <td>...</td>\n",
              "      <td>...</td>\n",
              "      <td>...</td>\n",
              "      <td>...</td>\n",
              "      <td>...</td>\n",
              "    </tr>\n",
              "    <tr>\n",
              "      <th>10627</th>\n",
              "      <td>0.155624</td>\n",
              "      <td>0.351269</td>\n",
              "      <td>0.332209</td>\n",
              "      <td>-0.322271</td>\n",
              "      <td>-0.075639</td>\n",
              "      <td>-0.151874</td>\n",
              "      <td>-0.331515</td>\n",
              "      <td>0.455903</td>\n",
              "      <td>-0.449663</td>\n",
              "      <td>-0.072421</td>\n",
              "      <td>...</td>\n",
              "      <td>0.435945</td>\n",
              "      <td>0.754585</td>\n",
              "      <td>0.087625</td>\n",
              "      <td>0.055762</td>\n",
              "      <td>-0.027146</td>\n",
              "      <td>-0.408740</td>\n",
              "      <td>-0.012137</td>\n",
              "      <td>-0.221980</td>\n",
              "      <td>-0.089819</td>\n",
              "      <td>0.538111</td>\n",
              "    </tr>\n",
              "    <tr>\n",
              "      <th>10628</th>\n",
              "      <td>-0.047006</td>\n",
              "      <td>0.184220</td>\n",
              "      <td>0.134665</td>\n",
              "      <td>-0.042744</td>\n",
              "      <td>-0.004651</td>\n",
              "      <td>0.439266</td>\n",
              "      <td>0.355108</td>\n",
              "      <td>0.090030</td>\n",
              "      <td>-0.391904</td>\n",
              "      <td>0.156409</td>\n",
              "      <td>...</td>\n",
              "      <td>0.393886</td>\n",
              "      <td>-0.600646</td>\n",
              "      <td>-0.586659</td>\n",
              "      <td>0.124816</td>\n",
              "      <td>-0.180664</td>\n",
              "      <td>-0.353152</td>\n",
              "      <td>0.329068</td>\n",
              "      <td>-0.255650</td>\n",
              "      <td>-0.157809</td>\n",
              "      <td>0.287070</td>\n",
              "    </tr>\n",
              "    <tr>\n",
              "      <th>10629</th>\n",
              "      <td>0.716892</td>\n",
              "      <td>-0.126199</td>\n",
              "      <td>-0.131107</td>\n",
              "      <td>-0.211246</td>\n",
              "      <td>-0.167417</td>\n",
              "      <td>-0.348317</td>\n",
              "      <td>-0.582858</td>\n",
              "      <td>0.689375</td>\n",
              "      <td>-0.032264</td>\n",
              "      <td>-0.066126</td>\n",
              "      <td>...</td>\n",
              "      <td>0.195693</td>\n",
              "      <td>0.396114</td>\n",
              "      <td>-0.521018</td>\n",
              "      <td>-0.116695</td>\n",
              "      <td>-0.045301</td>\n",
              "      <td>-0.485776</td>\n",
              "      <td>0.367975</td>\n",
              "      <td>-0.060476</td>\n",
              "      <td>-0.177780</td>\n",
              "      <td>-0.279968</td>\n",
              "    </tr>\n",
              "    <tr>\n",
              "      <th>10630</th>\n",
              "      <td>-0.425907</td>\n",
              "      <td>0.354710</td>\n",
              "      <td>-0.146872</td>\n",
              "      <td>-0.710721</td>\n",
              "      <td>-0.162246</td>\n",
              "      <td>0.224547</td>\n",
              "      <td>-0.134979</td>\n",
              "      <td>0.530851</td>\n",
              "      <td>-0.506097</td>\n",
              "      <td>-0.071030</td>\n",
              "      <td>...</td>\n",
              "      <td>0.271332</td>\n",
              "      <td>-0.144662</td>\n",
              "      <td>-0.624090</td>\n",
              "      <td>0.298668</td>\n",
              "      <td>0.421242</td>\n",
              "      <td>-0.168493</td>\n",
              "      <td>0.863022</td>\n",
              "      <td>-0.466026</td>\n",
              "      <td>0.262811</td>\n",
              "      <td>0.108840</td>\n",
              "    </tr>\n",
              "    <tr>\n",
              "      <th>10631</th>\n",
              "      <td>0.013978</td>\n",
              "      <td>0.760706</td>\n",
              "      <td>-0.320962</td>\n",
              "      <td>0.003609</td>\n",
              "      <td>-0.525018</td>\n",
              "      <td>0.170881</td>\n",
              "      <td>-0.613611</td>\n",
              "      <td>0.141427</td>\n",
              "      <td>0.347463</td>\n",
              "      <td>0.136875</td>\n",
              "      <td>...</td>\n",
              "      <td>0.659307</td>\n",
              "      <td>-0.652058</td>\n",
              "      <td>-0.082135</td>\n",
              "      <td>0.211727</td>\n",
              "      <td>-0.350783</td>\n",
              "      <td>-0.033770</td>\n",
              "      <td>-0.327424</td>\n",
              "      <td>0.035331</td>\n",
              "      <td>-0.558636</td>\n",
              "      <td>0.233242</td>\n",
              "    </tr>\n",
              "  </tbody>\n",
              "</table>\n",
              "<p>10632 rows × 128 columns</p>\n",
              "</div>\n",
              "    <div class=\"colab-df-buttons\">\n",
              "\n",
              "  <div class=\"colab-df-container\">\n",
              "    <button class=\"colab-df-convert\" onclick=\"convertToInteractive('df-64637d44-dbfb-48b7-b253-9b2b1c6aad6a')\"\n",
              "            title=\"Convert this dataframe to an interactive table.\"\n",
              "            style=\"display:none;\">\n",
              "\n",
              "  <svg xmlns=\"http://www.w3.org/2000/svg\" height=\"24px\" viewBox=\"0 -960 960 960\">\n",
              "    <path d=\"M120-120v-720h720v720H120Zm60-500h600v-160H180v160Zm220 220h160v-160H400v160Zm0 220h160v-160H400v160ZM180-400h160v-160H180v160Zm440 0h160v-160H620v160ZM180-180h160v-160H180v160Zm440 0h160v-160H620v160Z\"/>\n",
              "  </svg>\n",
              "    </button>\n",
              "\n",
              "  <style>\n",
              "    .colab-df-container {\n",
              "      display:flex;\n",
              "      gap: 12px;\n",
              "    }\n",
              "\n",
              "    .colab-df-convert {\n",
              "      background-color: #E8F0FE;\n",
              "      border: none;\n",
              "      border-radius: 50%;\n",
              "      cursor: pointer;\n",
              "      display: none;\n",
              "      fill: #1967D2;\n",
              "      height: 32px;\n",
              "      padding: 0 0 0 0;\n",
              "      width: 32px;\n",
              "    }\n",
              "\n",
              "    .colab-df-convert:hover {\n",
              "      background-color: #E2EBFA;\n",
              "      box-shadow: 0px 1px 2px rgba(60, 64, 67, 0.3), 0px 1px 3px 1px rgba(60, 64, 67, 0.15);\n",
              "      fill: #174EA6;\n",
              "    }\n",
              "\n",
              "    .colab-df-buttons div {\n",
              "      margin-bottom: 4px;\n",
              "    }\n",
              "\n",
              "    [theme=dark] .colab-df-convert {\n",
              "      background-color: #3B4455;\n",
              "      fill: #D2E3FC;\n",
              "    }\n",
              "\n",
              "    [theme=dark] .colab-df-convert:hover {\n",
              "      background-color: #434B5C;\n",
              "      box-shadow: 0px 1px 3px 1px rgba(0, 0, 0, 0.15);\n",
              "      filter: drop-shadow(0px 1px 2px rgba(0, 0, 0, 0.3));\n",
              "      fill: #FFFFFF;\n",
              "    }\n",
              "  </style>\n",
              "\n",
              "    <script>\n",
              "      const buttonEl =\n",
              "        document.querySelector('#df-64637d44-dbfb-48b7-b253-9b2b1c6aad6a button.colab-df-convert');\n",
              "      buttonEl.style.display =\n",
              "        google.colab.kernel.accessAllowed ? 'block' : 'none';\n",
              "\n",
              "      async function convertToInteractive(key) {\n",
              "        const element = document.querySelector('#df-64637d44-dbfb-48b7-b253-9b2b1c6aad6a');\n",
              "        const dataTable =\n",
              "          await google.colab.kernel.invokeFunction('convertToInteractive',\n",
              "                                                    [key], {});\n",
              "        if (!dataTable) return;\n",
              "\n",
              "        const docLinkHtml = 'Like what you see? Visit the ' +\n",
              "          '<a target=\"_blank\" href=https://colab.research.google.com/notebooks/data_table.ipynb>data table notebook</a>'\n",
              "          + ' to learn more about interactive tables.';\n",
              "        element.innerHTML = '';\n",
              "        dataTable['output_type'] = 'display_data';\n",
              "        await google.colab.output.renderOutput(dataTable, element);\n",
              "        const docLink = document.createElement('div');\n",
              "        docLink.innerHTML = docLinkHtml;\n",
              "        element.appendChild(docLink);\n",
              "      }\n",
              "    </script>\n",
              "  </div>\n",
              "\n",
              "\n",
              "<div id=\"df-70a828f1-df26-41ec-a100-8458fd4e1f3b\">\n",
              "  <button class=\"colab-df-quickchart\" onclick=\"quickchart('df-70a828f1-df26-41ec-a100-8458fd4e1f3b')\"\n",
              "            title=\"Suggest charts\"\n",
              "            style=\"display:none;\">\n",
              "\n",
              "<svg xmlns=\"http://www.w3.org/2000/svg\" height=\"24px\"viewBox=\"0 0 24 24\"\n",
              "     width=\"24px\">\n",
              "    <g>\n",
              "        <path d=\"M19 3H5c-1.1 0-2 .9-2 2v14c0 1.1.9 2 2 2h14c1.1 0 2-.9 2-2V5c0-1.1-.9-2-2-2zM9 17H7v-7h2v7zm4 0h-2V7h2v10zm4 0h-2v-4h2v4z\"/>\n",
              "    </g>\n",
              "</svg>\n",
              "  </button>\n",
              "\n",
              "<style>\n",
              "  .colab-df-quickchart {\n",
              "      --bg-color: #E8F0FE;\n",
              "      --fill-color: #1967D2;\n",
              "      --hover-bg-color: #E2EBFA;\n",
              "      --hover-fill-color: #174EA6;\n",
              "      --disabled-fill-color: #AAA;\n",
              "      --disabled-bg-color: #DDD;\n",
              "  }\n",
              "\n",
              "  [theme=dark] .colab-df-quickchart {\n",
              "      --bg-color: #3B4455;\n",
              "      --fill-color: #D2E3FC;\n",
              "      --hover-bg-color: #434B5C;\n",
              "      --hover-fill-color: #FFFFFF;\n",
              "      --disabled-bg-color: #3B4455;\n",
              "      --disabled-fill-color: #666;\n",
              "  }\n",
              "\n",
              "  .colab-df-quickchart {\n",
              "    background-color: var(--bg-color);\n",
              "    border: none;\n",
              "    border-radius: 50%;\n",
              "    cursor: pointer;\n",
              "    display: none;\n",
              "    fill: var(--fill-color);\n",
              "    height: 32px;\n",
              "    padding: 0;\n",
              "    width: 32px;\n",
              "  }\n",
              "\n",
              "  .colab-df-quickchart:hover {\n",
              "    background-color: var(--hover-bg-color);\n",
              "    box-shadow: 0 1px 2px rgba(60, 64, 67, 0.3), 0 1px 3px 1px rgba(60, 64, 67, 0.15);\n",
              "    fill: var(--button-hover-fill-color);\n",
              "  }\n",
              "\n",
              "  .colab-df-quickchart-complete:disabled,\n",
              "  .colab-df-quickchart-complete:disabled:hover {\n",
              "    background-color: var(--disabled-bg-color);\n",
              "    fill: var(--disabled-fill-color);\n",
              "    box-shadow: none;\n",
              "  }\n",
              "\n",
              "  .colab-df-spinner {\n",
              "    border: 2px solid var(--fill-color);\n",
              "    border-color: transparent;\n",
              "    border-bottom-color: var(--fill-color);\n",
              "    animation:\n",
              "      spin 1s steps(1) infinite;\n",
              "  }\n",
              "\n",
              "  @keyframes spin {\n",
              "    0% {\n",
              "      border-color: transparent;\n",
              "      border-bottom-color: var(--fill-color);\n",
              "      border-left-color: var(--fill-color);\n",
              "    }\n",
              "    20% {\n",
              "      border-color: transparent;\n",
              "      border-left-color: var(--fill-color);\n",
              "      border-top-color: var(--fill-color);\n",
              "    }\n",
              "    30% {\n",
              "      border-color: transparent;\n",
              "      border-left-color: var(--fill-color);\n",
              "      border-top-color: var(--fill-color);\n",
              "      border-right-color: var(--fill-color);\n",
              "    }\n",
              "    40% {\n",
              "      border-color: transparent;\n",
              "      border-right-color: var(--fill-color);\n",
              "      border-top-color: var(--fill-color);\n",
              "    }\n",
              "    60% {\n",
              "      border-color: transparent;\n",
              "      border-right-color: var(--fill-color);\n",
              "    }\n",
              "    80% {\n",
              "      border-color: transparent;\n",
              "      border-right-color: var(--fill-color);\n",
              "      border-bottom-color: var(--fill-color);\n",
              "    }\n",
              "    90% {\n",
              "      border-color: transparent;\n",
              "      border-bottom-color: var(--fill-color);\n",
              "    }\n",
              "  }\n",
              "</style>\n",
              "\n",
              "  <script>\n",
              "    async function quickchart(key) {\n",
              "      const quickchartButtonEl =\n",
              "        document.querySelector('#' + key + ' button');\n",
              "      quickchartButtonEl.disabled = true;  // To prevent multiple clicks.\n",
              "      quickchartButtonEl.classList.add('colab-df-spinner');\n",
              "      try {\n",
              "        const charts = await google.colab.kernel.invokeFunction(\n",
              "            'suggestCharts', [key], {});\n",
              "      } catch (error) {\n",
              "        console.error('Error during call to suggestCharts:', error);\n",
              "      }\n",
              "      quickchartButtonEl.classList.remove('colab-df-spinner');\n",
              "      quickchartButtonEl.classList.add('colab-df-quickchart-complete');\n",
              "    }\n",
              "    (() => {\n",
              "      let quickchartButtonEl =\n",
              "        document.querySelector('#df-70a828f1-df26-41ec-a100-8458fd4e1f3b button');\n",
              "      quickchartButtonEl.style.display =\n",
              "        google.colab.kernel.accessAllowed ? 'block' : 'none';\n",
              "    })();\n",
              "  </script>\n",
              "</div>\n",
              "\n",
              "  <div id=\"id_6192ac71-27de-42f7-8f8f-6cbbb685252d\">\n",
              "    <style>\n",
              "      .colab-df-generate {\n",
              "        background-color: #E8F0FE;\n",
              "        border: none;\n",
              "        border-radius: 50%;\n",
              "        cursor: pointer;\n",
              "        display: none;\n",
              "        fill: #1967D2;\n",
              "        height: 32px;\n",
              "        padding: 0 0 0 0;\n",
              "        width: 32px;\n",
              "      }\n",
              "\n",
              "      .colab-df-generate:hover {\n",
              "        background-color: #E2EBFA;\n",
              "        box-shadow: 0px 1px 2px rgba(60, 64, 67, 0.3), 0px 1px 3px 1px rgba(60, 64, 67, 0.15);\n",
              "        fill: #174EA6;\n",
              "      }\n",
              "\n",
              "      [theme=dark] .colab-df-generate {\n",
              "        background-color: #3B4455;\n",
              "        fill: #D2E3FC;\n",
              "      }\n",
              "\n",
              "      [theme=dark] .colab-df-generate:hover {\n",
              "        background-color: #434B5C;\n",
              "        box-shadow: 0px 1px 3px 1px rgba(0, 0, 0, 0.15);\n",
              "        filter: drop-shadow(0px 1px 2px rgba(0, 0, 0, 0.3));\n",
              "        fill: #FFFFFF;\n",
              "      }\n",
              "    </style>\n",
              "    <button class=\"colab-df-generate\" onclick=\"generateWithVariable('outdata')\"\n",
              "            title=\"Generate code using this dataframe.\"\n",
              "            style=\"display:none;\">\n",
              "\n",
              "  <svg xmlns=\"http://www.w3.org/2000/svg\" height=\"24px\"viewBox=\"0 0 24 24\"\n",
              "       width=\"24px\">\n",
              "    <path d=\"M7,19H8.4L18.45,9,17,7.55,7,17.6ZM5,21V16.75L18.45,3.32a2,2,0,0,1,2.83,0l1.4,1.43a1.91,1.91,0,0,1,.58,1.4,1.91,1.91,0,0,1-.58,1.4L9.25,21ZM18.45,9,17,7.55Zm-12,3A5.31,5.31,0,0,0,4.9,8.1,5.31,5.31,0,0,0,1,6.5,5.31,5.31,0,0,0,4.9,4.9,5.31,5.31,0,0,0,6.5,1,5.31,5.31,0,0,0,8.1,4.9,5.31,5.31,0,0,0,12,6.5,5.46,5.46,0,0,0,6.5,12Z\"/>\n",
              "  </svg>\n",
              "    </button>\n",
              "    <script>\n",
              "      (() => {\n",
              "      const buttonEl =\n",
              "        document.querySelector('#id_6192ac71-27de-42f7-8f8f-6cbbb685252d button.colab-df-generate');\n",
              "      buttonEl.style.display =\n",
              "        google.colab.kernel.accessAllowed ? 'block' : 'none';\n",
              "\n",
              "      buttonEl.onclick = () => {\n",
              "        google.colab.notebook.generateWithVariable('outdata');\n",
              "      }\n",
              "      })();\n",
              "    </script>\n",
              "  </div>\n",
              "\n",
              "    </div>\n",
              "  </div>\n"
            ],
            "application/vnd.google.colaboratory.intrinsic+json": {
              "type": "dataframe",
              "variable_name": "outdata"
            }
          },
          "metadata": {},
          "execution_count": 50
        }
      ]
    },
    {
      "cell_type": "code",
      "metadata": {
        "id": "Utl-1WvzfL6j"
      },
      "source": [
        "outdata.to_csv('word2vec_HW2.tsv',sep='\\t',index=False,header=False)"
      ],
      "execution_count": 51,
      "outputs": []
    },
    {
      "cell_type": "code",
      "metadata": {
        "id": "6o-ZIJDTknFg"
      },
      "source": [
        "pd.DataFrame(model.wv.index_to_key).to_csv('word2vec_HW2_words.tsv',sep='\\t',index=False,header=False)"
      ],
      "execution_count": 52,
      "outputs": []
    },
    {
      "cell_type": "code",
      "metadata": {
        "id": "8t3ViWmGNtmp"
      },
      "source": [],
      "execution_count": null,
      "outputs": []
    },
    {
      "cell_type": "markdown",
      "source": [],
      "metadata": {
        "id": "TKkzYjLvCpRd"
      }
    },
    {
      "cell_type": "code",
      "metadata": {
        "id": "4H5b08N0NtkL"
      },
      "source": [],
      "execution_count": null,
      "outputs": []
    },
    {
      "cell_type": "code",
      "metadata": {
        "id": "qbCGwEPOniQ6"
      },
      "source": [
        "\n"
      ],
      "execution_count": null,
      "outputs": []
    },
    {
      "cell_type": "code",
      "metadata": {
        "id": "35HllFovNvkc"
      },
      "source": [
        "https://projector.tensorflow.org/\n"
      ],
      "execution_count": null,
      "outputs": []
    }
  ]
}